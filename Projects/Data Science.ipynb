{
 "cells": [
  {
   "cell_type": "code",
   "execution_count": 1,
   "id": "9170ba91",
   "metadata": {},
   "outputs": [
    {
     "name": "stdout",
     "output_type": "stream",
     "text": [
      "Hello World!\n"
     ]
    }
   ],
   "source": [
    "print(\"Hello World!\") "
   ]
  },
  {
   "cell_type": "code",
   "execution_count": 2,
   "id": "0cc87f77",
   "metadata": {},
   "outputs": [
    {
     "name": "stdout",
     "output_type": "stream",
     "text": [
      "Vandana Rathod\n"
     ]
    }
   ],
   "source": [
    "print(\"Vandana Rathod\")"
   ]
  },
  {
   "cell_type": "code",
   "execution_count": 3,
   "id": "48715348",
   "metadata": {},
   "outputs": [
    {
     "name": "stdout",
     "output_type": "stream",
     "text": [
      "Sonu\n"
     ]
    }
   ],
   "source": [
    "print(\"Sonu\")"
   ]
  },
  {
   "cell_type": "code",
   "execution_count": 4,
   "id": "c9a93a5b",
   "metadata": {},
   "outputs": [
    {
     "name": "stdout",
     "output_type": "stream",
     "text": [
      "6\n"
     ]
    }
   ],
   "source": [
    "a=2\n",
    "b=3\n",
    "print(a*b)"
   ]
  },
  {
   "cell_type": "code",
   "execution_count": 5,
   "id": "6674618d",
   "metadata": {},
   "outputs": [
    {
     "name": "stdout",
     "output_type": "stream",
     "text": [
      "a*b\n"
     ]
    }
   ],
   "source": [
    "a=2\n",
    "b=3\n",
    "print(\"a*b\")"
   ]
  },
  {
   "cell_type": "code",
   "execution_count": 6,
   "id": "3e6d0da5",
   "metadata": {},
   "outputs": [
    {
     "name": "stdout",
     "output_type": "stream",
     "text": [
      "a*b\n"
     ]
    }
   ],
   "source": [
    "a=2\n",
    "b=3\n",
    "print('a*b')"
   ]
  },
  {
   "cell_type": "code",
   "execution_count": null,
   "id": "81c9f6b7",
   "metadata": {},
   "outputs": [],
   "source": []
  }
 ],
 "metadata": {
  "kernelspec": {
   "display_name": "Python 3 (ipykernel)",
   "language": "python",
   "name": "python3"
  },
  "language_info": {
   "codemirror_mode": {
    "name": "ipython",
    "version": 3
   },
   "file_extension": ".py",
   "mimetype": "text/x-python",
   "name": "python",
   "nbconvert_exporter": "python",
   "pygments_lexer": "ipython3",
   "version": "3.9.13"
  }
 },
 "nbformat": 4,
 "nbformat_minor": 5
}
